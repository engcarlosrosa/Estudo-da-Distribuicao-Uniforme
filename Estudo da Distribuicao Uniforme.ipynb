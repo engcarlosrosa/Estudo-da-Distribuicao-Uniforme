{
 "cells": [
  {
   "cell_type": "code",
   "execution_count": 182,
   "metadata": {
    "collapsed": false
   },
   "outputs": [
    {
     "data": {
      "image/png": "[encoded data removed]",
      "text/plain": [
       "<matplotlib.figure.Figure at 0x9b85208>"
      ]
     },
     "metadata": {},
     "output_type": "display_data"
    }
   ],
   "source": [
    "%matplotlib inline\n",
    "\n",
    "import os\n",
    "import pandas as pd\n",
    "import math\n",
    "from scipy import stats\n",
    "import numpy as np\n",
    "from scipy.stats import uniform\n",
    "import matplotlib.pyplot as plt\n",
    "fig, ax = plt.subplots(1,1)"
   ]
  },
  {
   "cell_type": "code",
   "execution_count": 183,
   "metadata": {
    "collapsed": true
   },
   "outputs": [],
   "source": [
    "mean, var, skew, kurt = uniform.stats(moments='mvsk')"
   ]
  },
  {
   "cell_type": "markdown",
   "metadata": {},
   "source": [
    "Resposta 2.1 \n",
    "\n",
    "Plot da densidade de probabilidade da Distribuição Uniforme e de sua cumulativa."
   ]
  },
  {
   "cell_type": "code",
   "execution_count": 185,
   "metadata": {
    "collapsed": false
   },
   "outputs": [
    {
     "data": {
      "image/png": "[encoded data removed]",
      "text/plain": [
       "<matplotlib.figure.Figure at 0x9b85208>"
      ]
     },
     "execution_count": 185,
     "metadata": {},
     "output_type": "execute_result"
    }
   ],
   "source": [
    "x = np.linspace(uniform.ppf(0.01,loc=1,scale=3)-1,\n",
    "                uniform.ppf(0.99,loc=1,scale=3)+1, 100)\n",
    "ax.plot(x, uniform.pdf(x,loc=1,scale=3),\n",
    "       'r-', lw=5, alpha=0.6, label='uniform pdf')\n",
    "ax.plot(x,uniform.cdf(x,loc=1,scale=3),\n",
    "       'b-', label='uniform cdf')\n",
    "fig"
   ]
  },
  {
   "cell_type": "markdown",
   "metadata": {},
   "source": [
    "Resposta 2.2\n",
    "\n",
    "\n",
    "Forma analítica (expressão) da Distribuição Uniforme:\n",
    "\n",
    "f(x) : 1/(b-a), quando a<=x<=b e 0 quando x<a ou x>b\n"
   ]
  },
  {
   "cell_type": "markdown",
   "metadata": {},
   "source": [
    "Resposta 2.3 \n",
    "\n",
    "\n",
    "Os  parâmetros que descrevem a distribuição são a e b."
   ]
  },
  {
   "cell_type": "markdown",
   "metadata": {},
   "source": [
    "Resposta 2.4\n",
    "\n",
    "A fórmula específica para calcular esperança (média) e variáncia em função dos parâmetros são:\n",
    "\n",
    "Média: (b + 2)/2\n",
    "\n",
    "Variancia: ((b-a)**2)/12"
   ]
  },
  {
   "cell_type": "markdown",
   "metadata": {},
   "source": [
    "Resposta 2.5\n",
    "\n",
    "A Distribuição Uniforme têm aplicações na area de informática, na maioria das linguagens de programação e de pacotes estatísticos. É bastante utilizada na geração de dados aleatórios.\n"
   ]
  },
  {
   "cell_type": "markdown",
   "metadata": {},
   "source": [
    "Resposta 2.6\n",
    "\n",
    "A Distribuição Uniforme não é útil para inferência estatística, pois seus valores são equivalente, o que não ocorre no mundo real. "
   ]
  },
  {
   "cell_type": "code",
   "execution_count": null,
   "metadata": {
    "collapsed": true
   },
   "outputs": [],
   "source": []
  }
 ],
 "metadata": {
  "kernelspec": {
   "display_name": "Python 3",
   "language": "python",
   "name": "python3"
  },
  "language_info": {
   "codemirror_mode": {
    "name": "ipython",
    "version": 3
   },
   "file_extension": ".py",
   "mimetype": "text/x-python",
   "name": "python",
   "nbconvert_exporter": "python",
   "pygments_lexer": "ipython3",
   "version": "3.4.3"
  }
 },
 "nbformat": 4,
 "nbformat_minor": 0
}
